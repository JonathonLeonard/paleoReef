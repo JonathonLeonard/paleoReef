{
 "cells": [
  {
   "cell_type": "code",
   "execution_count": 2,
   "id": "999278e3",
   "metadata": {},
   "outputs": [],
   "source": [
    "import os\n",
    "import numpy as np\n",
    "import xesmf as xe\n",
    "import xarray as xr\n",
    "import rioxarray as rio"
   ]
  },
  {
   "cell_type": "code",
   "execution_count": 1,
   "id": "01b74c15",
   "metadata": {},
   "outputs": [],
   "source": [
    "timeclim = 201\n",
    "CO2curve = 'foster'"
   ]
  },
  {
   "cell_type": "markdown",
   "id": "5311cc6b",
   "metadata": {},
   "source": [
    "Read environmental variables"
   ]
  },
  {
   "cell_type": "code",
   "execution_count": 3,
   "id": "99b8e695",
   "metadata": {},
   "outputs": [],
   "source": [
    "abiotic = xr.open_dataset('env_var/enviVar'+str(timeclim)+'Ma_res1_'+CO2curve+'.nc')\n",
    "flood = abiotic.flood.values.copy()\n",
    "bathy = abiotic.bathy.values.copy()\n",
    "\n",
    "ids = np.where((flood==1) & (bathy>=0))\n",
    "bathy[ids] = -0.01\n",
    "abiotic['bathy'] = (('latitude', 'longitude'), bathy)\n",
    "\n",
    "# Regridding\n",
    "ds_out = xe.util.grid_2d(-180.0, 180.0, 0.25, -90.0, 90.0, 0.25)\n",
    "regrid = xe.Regridder(abiotic, ds_out, 'nearest_s2d', periodic=True, weights='data/regrid/nearest_s2d_gridder_env_res2.nc')\n",
    "\n",
    "abiotic2 = regrid(abiotic)\n",
    "shelfdata = abiotic2.copy() #where(abiotic2.flood==1)"
   ]
  },
  {
   "cell_type": "markdown",
   "id": "9e643eaf",
   "metadata": {},
   "source": [
    "Save biomod input data"
   ]
  },
  {
   "cell_type": "code",
   "execution_count": 4,
   "id": "9fe30a12",
   "metadata": {},
   "outputs": [],
   "source": [
    "pathf = 'env_var/bio_res2_'+str(timeclim)+'Ma_'+CO2curve\n",
    "isExist = os.path.exists(pathf)\n",
    "if not isExist:\n",
    "    os.makedirs(pathf)\n",
    "    \n",
    "    \n",
    "gtmp = shelfdata['sed'].rio.write_nodata(np.nan, inplace=True).to_dataset()\n",
    "gtmp = xr.DataArray(\n",
    "                gtmp['sed'].values,\n",
    "                dims=[\"latitude\", \"longitude\"],\n",
    "                coords={\"latitude\": gtmp.lat.values[:,0], \"longitude\": gtmp.lon.values[0,:]},\n",
    "            )\n",
    "gtmp = gtmp.to_dataset(name='sed')\n",
    "gtmp.rio.write_crs('EPSG:4326', inplace=True)\n",
    "gtmp['sed'].rio.to_raster('env_var/bio_res2_'+str(timeclim)+'Ma_'+CO2curve+'/sed.tif')\n",
    "\n",
    "envi_var = ['temp','salt','fstream','curr']\n",
    "for k in range(len(envi_var)):\n",
    "    if envi_var[k] == 'temp' or envi_var[k] == 'salt':\n",
    "        gtmp = shelfdata[envi_var[k]+'Min'].rio.write_nodata(np.nan, inplace=True).to_dataset()\n",
    "        gtmp = xr.DataArray(\n",
    "                gtmp[envi_var[k]+'Min'].values,\n",
    "                dims=[\"latitude\", \"longitude\"],\n",
    "                coords={\"latitude\": gtmp.lat.values[:,0], \"longitude\": gtmp.lon.values[0,:]},\n",
    "            )\n",
    "        gtmp = gtmp.to_dataset(name=envi_var[k]+'Min')\n",
    "        gtmp.rio.write_crs('EPSG:4326', inplace=True)\n",
    "        gtmp[envi_var[k]+'Min'].rio.to_raster('env_var/bio_res2_'+str(timeclim)+'Ma_'+CO2curve+'/'+envi_var[k]+\"Min.tif\") \n",
    "\n",
    "        gtmp = shelfdata[envi_var[k]+'Max'].rio.write_nodata(np.nan, inplace=True).to_dataset()\n",
    "        gtmp = xr.DataArray(\n",
    "                gtmp[envi_var[k]+'Max'].values,\n",
    "                dims=[\"latitude\", \"longitude\"],\n",
    "                coords={\"latitude\": gtmp.lat.values[:,0], \"longitude\": gtmp.lon.values[0,:]},\n",
    "            )\n",
    "        gtmp = gtmp.to_dataset(name=envi_var[k]+'Max')\n",
    "        gtmp.rio.write_crs('EPSG:4326', inplace=True)\n",
    "        gtmp[envi_var[k]+'Max'].rio.to_raster('env_var/bio_res2_'+str(timeclim)+'Ma_'+CO2curve+'/'+envi_var[k]+\"Max.tif\")\n",
    "    else:\n",
    "        gtmp = shelfdata[envi_var[k]].rio.write_nodata(np.nan, inplace=True).to_dataset()\n",
    "        gtmp = xr.DataArray(\n",
    "                gtmp[envi_var[k]].values,\n",
    "                dims=[\"latitude\", \"longitude\"],\n",
    "                coords={\"latitude\": gtmp.lat.values[:,0], \"longitude\": gtmp.lon.values[0,:]},\n",
    "            )\n",
    "        gtmp = gtmp.to_dataset(name=envi_var[k])\n",
    "        gtmp.rio.write_crs('EPSG:4326', inplace=True)\n",
    "        gtmp[envi_var[k]].rio.to_raster('env_var/bio_res2_'+str(timeclim)+'Ma_'+CO2curve+'/'+envi_var[k]+\".tif\")"
   ]
  },
  {
   "cell_type": "code",
   "execution_count": null,
   "id": "90b877b2",
   "metadata": {},
   "outputs": [],
   "source": []
  }
 ],
 "metadata": {
  "kernelspec": {
   "display_name": "Python 3 (ipykernel)",
   "language": "python",
   "name": "python3"
  },
  "language_info": {
   "codemirror_mode": {
    "name": "ipython",
    "version": 3
   },
   "file_extension": ".py",
   "mimetype": "text/x-python",
   "name": "python",
   "nbconvert_exporter": "python",
   "pygments_lexer": "ipython3",
   "version": "3.11.3"
  }
 },
 "nbformat": 4,
 "nbformat_minor": 5
}
